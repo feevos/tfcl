{
 "cells": [
  {
   "cell_type": "code",
   "execution_count": 1,
   "id": "7f1c14a3-e059-47e2-bc7b-c29e92cbdd4e",
   "metadata": {},
   "outputs": [],
   "source": [
    "import sys\n",
    "sys.path.append(r'../../')"
   ]
  },
  {
   "cell_type": "markdown",
   "id": "4beb55ac-fd4d-4bbb-bacf-9649caca9a5c",
   "metadata": {},
   "source": [
    "# PTAViT3D model (S1 or S2 input)"
   ]
  },
  {
   "cell_type": "code",
   "execution_count": 2,
   "id": "624ae3c9-69d6-46d4-81dc-8c16878ae047",
   "metadata": {},
   "outputs": [],
   "source": [
    "from tfcl.models.ptavit3d.ptavit3d_dn import *"
   ]
  },
  {
   "cell_type": "code",
   "execution_count": 3,
   "id": "06476142-a767-40e8-809b-972f708ed190",
   "metadata": {},
   "outputs": [
    {
     "name": "stdout",
     "output_type": "stream",
     "text": [
      " @@@@@@@@@@@@@ Going DOWN @@@@@@@@@@@@@@@@@@@ \n",
      "depth:= 0, layer_dim_in: 96, layer_dim: 96, stage_depth::2, spatial_size::(32, 32), scales::[16, 8, 8]\n",
      "depth:= 1, layer_dim_in: 96, layer_dim: 192, stage_depth::2, spatial_size::(16, 16), scales::[32, 4, 4]\n",
      "depth:= 2, layer_dim_in: 192, layer_dim: 384, stage_depth::5, spatial_size::(8, 8), scales::[64, 2, 2]\n",
      "depth:= 3, layer_dim_in: 384, layer_dim: 768, stage_depth::2, spatial_size::(4, 4), scales::[128, 1, 1]\n",
      " XXXXXXXXXXXXXXXXXXXXX Coming up XXXXXXXXXXXXXXXXXXXXXXXXX \n",
      "depth:= 4, layer_dim_in: 384, layer_dim: 384, stage_depth::5, spatial_size::(8, 8), scales::[64, 2, 2]\n",
      "depth:= 5, layer_dim_in: 192, layer_dim: 192, stage_depth::2, spatial_size::(16, 16), scales::[32, 4, 4]\n",
      "depth:= 6, layer_dim_in: 96, layer_dim: 96, stage_depth::2, spatial_size::(32, 32), scales::[16, 8, 8]\n"
     ]
    }
   ],
   "source": [
    "NClasses=2 #                                                       \n",
    "nf=96                                                              \n",
    "verbose = True  # print only on global_rank==0     \n",
    "model_config = {'in_channels':5,                                   \n",
    "               'spatial_size_init':(128,128),                      \n",
    "               'depths':[2,2,5,2],                                 \n",
    "               'nfilters_init':nf,                                 \n",
    "               'nheads_start':nf//4,                               \n",
    "               'NClasses':NClasses,                                \n",
    "               'verbose':verbose,                                  \n",
    "               'segm_act':'sigmoid'}                               \n",
    "                                                                   \n",
    "# UNet-like model                                                  \n",
    "model = ptavit3d_dn(**model_config) \n"
   ]
  },
  {
   "cell_type": "code",
   "execution_count": 4,
   "id": "e238684e-caf0-41ec-a23e-94833bda49df",
   "metadata": {},
   "outputs": [],
   "source": [
    "# Random 3D input batch size of 2, 5 channels, 4 time instances, height x width = 64 x 64\n",
    "b,c,t,h,w = 2,5,4,128,128\n",
    "xx = torch.rand(b,c,t,h,w)"
   ]
  },
  {
   "cell_type": "code",
   "execution_count": 5,
   "id": "4fd922b2-472f-4cd0-977b-4e063bb0be39",
   "metadata": {},
   "outputs": [
    {
     "name": "stdout",
     "output_type": "stream",
     "text": [
      "input shape::torch.Size([2, 5, 4, 128, 128])\n"
     ]
    }
   ],
   "source": [
    "print(\"input shape::{}\".format(xx.shape))\n",
    "outs = model(xx)"
   ]
  },
  {
   "cell_type": "code",
   "execution_count": 6,
   "id": "e125e393-5247-4fe6-a82b-a455ab31d069",
   "metadata": {},
   "outputs": [
    {
     "data": {
      "text/plain": [
       "torch.Size([2, 6, 128, 128])"
      ]
     },
     "execution_count": 6,
     "metadata": {},
     "output_type": "execute_result"
    }
   ],
   "source": [
    "outs.shape"
   ]
  },
  {
   "cell_type": "code",
   "execution_count": 7,
   "id": "3db950f0-78ca-4ec9-859e-1c1d0ebdfb2f",
   "metadata": {},
   "outputs": [],
   "source": [
    "preds_e = outs[:,:NClasses]\n",
    "preds_b = outs[:,NClasses:2*NClasses]\n",
    "preds_d = outs[:,2*NClasses:3*NClasses]"
   ]
  },
  {
   "cell_type": "code",
   "execution_count": 8,
   "id": "2b9a7f37-fa94-4b33-b290-b162e82711be",
   "metadata": {},
   "outputs": [
    {
     "name": "stdout",
     "output_type": "stream",
     "text": [
      "extent shape::torch.Size([2, 2, 128, 128])\n",
      "bounds shape::torch.Size([2, 2, 128, 128])\n",
      "distance shape::torch.Size([2, 2, 128, 128])\n"
     ]
    }
   ],
   "source": [
    "print(\"extent shape::{}\".format(preds_e.shape))\n",
    "print(\"bounds shape::{}\".format(preds_b.shape))\n",
    "print(\"distance shape::{}\".format(preds_d.shape))"
   ]
  },
  {
   "cell_type": "code",
   "execution_count": null,
   "id": "04dc843f-7771-4073-a8bf-96b428e8773f",
   "metadata": {},
   "outputs": [],
   "source": []
  }
 ],
 "metadata": {
  "kernelspec": {
   "display_name": "Python 3 (ipykernel)",
   "language": "python",
   "name": "python3"
  },
  "language_info": {
   "codemirror_mode": {
    "name": "ipython",
    "version": 3
   },
   "file_extension": ".py",
   "mimetype": "text/x-python",
   "name": "python",
   "nbconvert_exporter": "python",
   "pygments_lexer": "ipython3",
   "version": "3.10.12"
  }
 },
 "nbformat": 4,
 "nbformat_minor": 5
}
